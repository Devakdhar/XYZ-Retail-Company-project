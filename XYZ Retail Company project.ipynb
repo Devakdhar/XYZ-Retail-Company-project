{
 "cells": [
  {
   "cell_type": "code",
   "execution_count": 3,
   "id": "aa3020f2-8d9a-44ba-ae08-19d6e873e6f8",
   "metadata": {},
   "outputs": [
    {
     "name": "stdin",
     "output_type": "stream",
     "text": [
      "Enter current stock level:  12\n"
     ]
    },
    {
     "name": "stdout",
     "output_type": "stream",
     "text": [
      "Stock is sufficient\n"
     ]
    },
    {
     "name": "stdin",
     "output_type": "stream",
     "text": [
      "Enter current stock level:  9\n"
     ]
    },
    {
     "name": "stdout",
     "output_type": "stream",
     "text": [
      "Reorder Now\n"
     ]
    }
   ],
   "source": [
    "# Task 5: Stock Level Alert System\n",
    "\n",
    "# Objective: Ensuring that stock levels are maintained is critical to avoid stockouts.\n",
    "\n",
    "# Write the code that takes the stock level as input.\n",
    "\n",
    "# If stock is below a certain threshold, print a \"Reorder Now\" alert. If stock is above the threshold, print \"Stock is sufficient.\"\n",
    "\n",
    "maximum= 2\n",
    "number= 0\n",
    "\n",
    "while number<maximum:\n",
    "    stock_level = int(input(\"Enter current stock level: \"))\n",
    "    threshold= 10\n",
    "   \n",
    "    if stock_level<threshold:\n",
    "        print(\"Reorder Now\")\n",
    "    if stock_level>threshold:\n",
    "        print(\"Stock is sufficient\")\n",
    "    number=number+1"
   ]
  },
  {
   "cell_type": "code",
   "execution_count": 58,
   "id": "b2d64dac-9264-4a83-93da-754e215ab9ab",
   "metadata": {},
   "outputs": [
    {
     "name": "stdout",
     "output_type": "stream",
     "text": [
      "product_name: Keyboard, SKU: WM321\n"
     ]
    }
   ],
   "source": [
    "#Task 4: Inventory Lookup\n",
    "\n",
    "#Objective: Quick access to product details is important for customer service representatives.\n",
    "\n",
    "\n",
    "   #Create a dictionary storing key information about a product (e.g., `product_name`, `SKU`, `price`, `category`).\n",
    "\n",
    "   #Print the product name and SKU when queried by a customer service representative.\n",
    "\n",
    "Product_list= {\"product_name\": \"Keyboard\", \"SKU\": \"WM321\", \"price\":150, \"category\": \"Computer\"}\n",
    "print(f'product_name: {Product_list[\"product_name\"]}, SKU: {Product_list[\"SKU\"]}')"
   ]
  },
  {
   "cell_type": "code",
   "execution_count": 62,
   "id": "1cc83b7b-2235-441d-99f4-cb9134517e82",
   "metadata": {},
   "outputs": [
    {
     "name": "stdout",
     "output_type": "stream",
     "text": [
      "Total units sold: 1100\n",
      "Difference between categories : 100\n",
      "Ratio of units sold (Category A to Category B): 1.20\n"
     ]
    }
   ],
   "source": [
    "#Task 1: Sales Data Summary\n",
    "\n",
    "#Objective: XYZ Retail wants to automate the process of calculating basic sales metrics.\n",
    "\n",
    "\n",
    "# Assign the number of units sold in two categories, `Category A` and `Category B`, to variables.\n",
    "\n",
    "# Calculate the total units sold, the difference between the categories, and the ratio of units sold.\n",
    "\n",
    "# Print these results clearly for the management team\n",
    "\n",
    "category_A = 600\n",
    "category_B = 500\n",
    "\n",
    "Total_units= category_A + category_B\n",
    "Difference = category_A - category_B\n",
    "Ratio_units= category_A / category_B\n",
    "\n",
    "print(f\"Total units sold: {Total_units}\")\n",
    "print(f\"Difference between categories : {Difference}\")\n",
    "print(f\"Ratio of units sold (Category A to Category B): {Ratio_units:.2f}\")"
   ]
  },
  {
   "cell_type": "code",
   "execution_count": 66,
   "id": "2a842c28-366b-4e9c-89dc-f093d5a93a9d",
   "metadata": {},
   "outputs": [
    {
     "name": "stdout",
     "output_type": "stream",
     "text": [
      "Dear Rohan, at 35, you’re eligible for our premium loyalty program.\n"
     ]
    }
   ],
   "source": [
    "#Task 2: Customer Age Data\n",
    "\n",
    "# Objective: Understanding the age distribution of customers is crucial for marketing strategies.\n",
    "\n",
    "# Store a customer's name and age.\n",
    "\n",
    "# Convert the age into a string and create a personalized marketing message like \"Dear John Doe, at 30, you’re eligible for our premium loyalty program.\"\n",
    "\n",
    "# Print the message for use in email campaigns.\n",
    "\n",
    "Customer_name=\"Rohan\"\n",
    "Age= 35\n",
    "\n",
    "Message=(f\"Dear {Customer_name}, at {Age}, you’re eligible for our premium loyalty program.\")\n",
    "print(Message)"
   ]
  },
  {
   "cell_type": "code",
   "execution_count": 68,
   "id": "0fb89cd5-4ce3-4bf6-b4a0-b79629c242ae",
   "metadata": {},
   "outputs": [
    {
     "name": "stdout",
     "output_type": "stream",
     "text": [
      "Highest Prices: 400\n",
      "Lowest Prices: 50\n",
      "Mid range products: [200, 300, 150, 100]\n",
      "Updated Product list: [50, 200, 300, 150, 400, 100, 500]\n"
     ]
    }
   ],
   "source": [
    "#Task 3: Product List Management\n",
    "\n",
    "# Objective: Efficient management of the product list is essential for inventory control.\n",
    "\n",
    "# Given a list of product prices, extract the highest and lowest prices.\n",
    "\n",
    "# Create a new list with the mid-range products.\n",
    "\n",
    "# Add a new premium product price to the list and print the updated list for the inventory team.\n",
    "\n",
    "Product_prices= [50, 200, 300, 150, 400, 100]\n",
    "\n",
    "Highest_prices= max(Product_prices)\n",
    "Lowest_prices = min(Product_prices)\n",
    "\n",
    "Mid_range_products = [price for price in Product_prices if price != Highest_prices and price != Lowest_prices]\n",
    "\n",
    "Premium_product_price= 500\n",
    "Product_prices.append(Premium_product_price)\n",
    "\n",
    "print(F\"Highest Prices: {Highest_prices}\")\n",
    "print(f\"Lowest Prices: {Lowest_prices}\")\n",
    "print(f\"Mid range products: {Mid_range_products}\")\n",
    "print(f\"Updated Product list: {Product_prices}\")"
   ]
  },
  {
   "cell_type": "code",
   "execution_count": 74,
   "id": "7f3fa204-781c-489d-8e81-6e713d02533c",
   "metadata": {},
   "outputs": [
    {
     "name": "stdout",
     "output_type": "stream",
     "text": [
      "LAPTOP\n",
      "MOUSE\n",
      "KEYBOARD\n",
      "MONITOR\n",
      "HEADPHONE\n",
      "LAPTOP\n",
      "MOUSE\n",
      "KEYBOARD\n",
      "MONITOR\n",
      "HEADPHONE\n"
     ]
    }
   ],
   "source": [
    "#Task 6: Sales Report Formatting\n",
    "\n",
    "#Objective: Formatting the sales data for management reports is crucial.\n",
    "\n",
    "# Given a list of products sold, print each product name in uppercase for better visibility in reports.\n",
    "\n",
    "# Implement both a `for` loop and a `while` loop for this task to ensure code flexibility.\n",
    "\n",
    "products_sold = [\"laptop\", \"mouse\", \"keyboard\", \"monitor\", \"headphone\"]\n",
    "\n",
    "# Using while loop\n",
    "index=0\n",
    "while index < len(products_sold):\n",
    "    print(products_sold[index].upper())\n",
    "    index=index+1\n",
    "# Using for loop\n",
    "for product in products_sold:\n",
    "    print(product.upper())\n"
   ]
  },
  {
   "cell_type": "code",
   "execution_count": 78,
   "id": "fde77604-89d7-47c9-8d37-2796cdea0b06",
   "metadata": {},
   "outputs": [
    {
     "name": "stdout",
     "output_type": "stream",
     "text": [
      "Section Area: 600 square meters\n",
      "Section Area: 513 square meters\n",
      "Section Area: 96 square meters\n"
     ]
    }
   ],
   "source": [
    "#Task 7: Area Calculation for Store Layout\n",
    "\n",
    "# Objective: Accurate area calculations are needed to plan new store layouts.\n",
    "\n",
    "\n",
    "# Create a function that calculates the area of a section of the store based on length and width.\n",
    "\n",
    "# Use this function to calculate and print the area of several store sections.\n",
    "\n",
    "def calculate_area(length, width):\n",
    "    return length * width\n",
    "\n",
    "# Example store sections\n",
    "sections = [(20, 30), (19, 27), (12, 8)]\n",
    "\n",
    "for section in sections:\n",
    "    area = calculate_area(section[0], section[1])\n",
    "    print(f\"Section Area: {area} square meters\")"
   ]
  },
  {
   "cell_type": "code",
   "execution_count": 80,
   "id": "15ee0d5e-900b-45ae-ae93-253e3ae42df2",
   "metadata": {},
   "outputs": [
    {
     "name": "stdout",
     "output_type": "stream",
     "text": [
      "Vowel Count: 11\n",
      "Reversed Message: !yltcefrep skrow dna gnizama si tcudorp sihT\n"
     ]
    }
   ],
   "source": [
    "# Task 8: Customer Feedback Analysis\n",
    "\n",
    "#Objective: Analyzing customer feedback is vital to improving service.\n",
    "\n",
    "# Write the code to count the number of vowels in a customer feedback message.\n",
    "\n",
    "# Also, reverse the feedback message for a unique data presentation in reports.\n",
    "\n",
    "def count_vowels(feedback: str) -> int:\n",
    "    \"\"\"\n",
    "    Counts the number of vowels in the given feedback message.\n",
    "    Args:\n",
    "        feedback (str): The customer feedback message.\n",
    "    Returns:\n",
    "        int: Number of vowels in the message.\n",
    "    \"\"\"\n",
    "    vowels = \"aeiouAEIOU\"\n",
    "    return sum(1 for char in feedback if char in vowels)\n",
    "\n",
    "\n",
    "def reverse_message(feedback: str) -> str:\n",
    "    \"\"\"\n",
    "    Reverses the feedback message for unique data presentation.\n",
    "    Args:\n",
    "        feedback (str): The customer feedback message.\n",
    "    Returns:\n",
    "        str: The reversed message.\n",
    "    \"\"\"\n",
    "    return feedback[::-1]\n",
    "\n",
    "\n",
    "feedback_message = \"This product is amazing and works perfectly!\"\n",
    "\n",
    "vowel_count = count_vowels(feedback_message)\n",
    "reversed_message = reverse_message(feedback_message)\n",
    "\n",
    "print(f\"Vowel Count: {vowel_count}\")\n",
    "print(f\"Reversed Message: {reversed_message}\")"
   ]
  },
  {
   "cell_type": "code",
   "execution_count": 88,
   "id": "9bfeb50a-643e-40b6-8e62-648e8a0bdc68",
   "metadata": {},
   "outputs": [
    {
     "name": "stdout",
     "output_type": "stream",
     "text": [
      "Eligible products for discount campaign: 350\n",
      "Eligible products for discount campaign: 400\n",
      "Eligible products for discount campaign: 450\n",
      "Eligible products for discount campaign: 500\n"
     ]
    }
   ],
   "source": [
    "# Task 9: Price Filtering Tool\n",
    "\n",
    "# Objective: Filtering product prices helps in creating targeted discounts.\n",
    "\n",
    "\n",
    "#  Use list comprehension to filter out products priced below a certain threshold from the product list.\n",
    "\n",
    "#  Print the list of eligible products for a discount campaign.\n",
    "\n",
    "product_prices = [50,100,150,200,250,300,350,400,450,500]\n",
    "threshold_price = 300\n",
    "\n",
    "\n",
    "for price in product_prices:\n",
    "    if price > threshold_price:\n",
    "        print(\"Eligible products for discount campaign:\",price)"
   ]
  },
  {
   "cell_type": "code",
   "execution_count": 96,
   "id": "91da953d-c8e2-42bc-a763-9f41ebf78418",
   "metadata": {},
   "outputs": [
    {
     "name": "stdout",
     "output_type": "stream",
     "text": [
      "Day 1: Total sales amounted to $5,000 with a 20% increase from the previous day.\n",
      "Day 2: Total sales amounted to $6,000 with a 10% increase from Day 1.\n",
      "\n"
     ]
    }
   ],
   "source": [
    "# Task 10: Sales Log File Management\n",
    "\n",
    "#  Objective: Proper management of sales log files is necessary for compliance and audit purposes.\n",
    "\n",
    "\n",
    "# Create a text file named `sales_log.txt` to store daily sales summaries.\n",
    "\n",
    "#  Write two lines summarizing the daily sales performance.\n",
    "\n",
    "#  Read and print the content of the file to ensure data integrity.\n",
    "\n",
    "# Create and write to the file\n",
    "with open(\"sales_log.txt\", \"w\") as file:\n",
    "    file.write(\"Day 1: Total sales amounted to $5,000 with a 20% increase from the previous day.\\n\")\n",
    "    file.write(\"Day 2: Total sales amounted to $6,000 with a 10% increase from Day 1.\\n\")\n",
    "\n",
    "# Read and print the content\n",
    "with open(\"sales_log.txt\", \"r\") as file:\n",
    "    print(file.read())\n"
   ]
  },
  {
   "cell_type": "code",
   "execution_count": 98,
   "id": "4cc4e058-bf18-4736-adc5-604e8d3b990b",
   "metadata": {},
   "outputs": [
    {
     "name": "stdout",
     "output_type": "stream",
     "text": [
      "Average Daily Sales: 335.71\n"
     ]
    }
   ],
   "source": [
    "# Task 11: Daily Sales Average\n",
    "# Objective: Calculate the average daily sales for the past week.\n",
    "\n",
    "# Given a list of sales figures for the last 7 days, calculate the average sales.\n",
    "\n",
    "# Print the average sales to help the finance team understand the weekly performance.\n",
    "\n",
    "sales_last_week = [100, 200, 350, 550, 600, 150, 400]\n",
    "average_sales = sum(sales_last_week) / len(sales_last_week)\n",
    "print(f\"Average Daily Sales: {average_sales:.2f}\")"
   ]
  },
  {
   "cell_type": "code",
   "execution_count": 100,
   "id": "8293458e-b9db-41dd-98c9-8a7227e94b92",
   "metadata": {},
   "outputs": [
    {
     "name": "stdout",
     "output_type": "stream",
     "text": [
      "Customer 1: Spending = $50, Category = Low\n",
      "Customer 2: Spending = $150, Category = Medium\n",
      "Customer 3: Spending = $300, Category = Medium\n",
      "Customer 4: Spending = $600, Category = High\n",
      "Customer 5: Spending = $75, Category = Low\n",
      "Customer 6: Spending = $450, Category = Medium\n"
     ]
    }
   ],
   "source": [
    "# Task 12: Customer Segmentation\n",
    "# Objective: Categorize customers based on their total spending.\n",
    "\n",
    "# Create a list of customer spending amounts.\n",
    "\n",
    "# Use a loop to categorize customers as \"Low\", \"Medium\", or \"High\" spenders based on their spending amount.\n",
    "\n",
    "# Print the categorized results to assist in targeted marketing.\n",
    "\n",
    "def categorize_customers(spending_list):\n",
    "    \"\"\"\n",
    "    Categorizes customers based on their total spending.\n",
    "\n",
    "    Args:\n",
    "        spending_list (list): A list of customer spending amounts.\n",
    "\n",
    "    Returns:\n",
    "        None: Prints categorized results directly.\n",
    "    \"\"\"\n",
    "    for i, spending in enumerate(spending_list):\n",
    "        if spending < 100:\n",
    "            category = \"Low\"\n",
    "        elif 100 <= spending <= 500:\n",
    "            category = \"Medium\"\n",
    "        else:\n",
    "            category = \"High\"\n",
    "        print(f\"Customer {i + 1}: Spending = ${spending}, Category = {category}\")\n",
    "\n",
    "spending_list = [50, 150, 300, 600, 75, 450]\n",
    "categorize_customers(spending_list)"
   ]
  },
  {
   "cell_type": "code",
   "execution_count": 102,
   "id": "c794b64f-fe89-4d83-a2d9-9eb467db85d0",
   "metadata": {},
   "outputs": [
    {
     "name": "stdout",
     "output_type": "stream",
     "text": [
      "Final prices after applying discounts:\n",
      "Product A: Original Price = $100, Discount = 10%, Final Price = $90.0\n",
      "Product B: Original Price = $200, Discount = 25%, Final Price = $150.0\n",
      "Product C: Original Price = $50, Discount = 5%, Final Price = $47.5\n",
      "Product D: Original Price = $300, Discount = 50%, Final Price = $150.0\n"
     ]
    }
   ],
   "source": [
    "#  Task 13: Discount Calculation\n",
    "#  Objective: Automate the calculation of discounts for a promotional campaign.\n",
    "\n",
    "#  Write a code that calculates the final price after applying a discount percentage to a product’s original price.\n",
    "\n",
    "#  Test this function on a list of products with different discounts and print the final prices.\n",
    "\n",
    "def calculate_final_price(original_price, discount_percentage):\n",
    "    \"\"\"\n",
    "    Calculates the final price of a product after applying a discount.\n",
    "\n",
    "    Args:\n",
    "        original_price (float): The original price of the product.\n",
    "        discount_percentage (float): The discount percentage to apply.\n",
    "\n",
    "    Returns:\n",
    "        float: The final price after applying the discount.\n",
    "    \"\"\"\n",
    "    if discount_percentage < 0 or discount_percentage > 100:\n",
    "        raise ValueError(\"Discount percentage must be between 0 and 100.\")\n",
    "    discount_amount = (original_price * discount_percentage) / 100\n",
    "    final_price = original_price - discount_amount\n",
    "    return round(final_price, 2)\n",
    "\n",
    "\n",
    "# Example usage: List of products with original prices and discounts\n",
    "products = [\n",
    "    {\"name\": \"Product A\", \"original_price\": 100, \"discount\": 10},\n",
    "    {\"name\": \"Product B\", \"original_price\": 200, \"discount\": 25},\n",
    "    {\"name\": \"Product C\", \"original_price\": 50, \"discount\": 5},\n",
    "    {\"name\": \"Product D\", \"original_price\": 300, \"discount\": 50},\n",
    "]\n",
    "\n",
    "# Calculate and print final prices for each product\n",
    "print(\"Final prices after applying discounts:\")\n",
    "for product in products:\n",
    "    final_price = calculate_final_price(product[\"original_price\"], product[\"discount\"])\n",
    "    print(f\"{product['name']}: Original Price = ${product['original_price']}, Discount = {product['discount']}%, Final Price = ${final_price}\")"
   ]
  },
  {
   "cell_type": "code",
   "execution_count": 104,
   "id": "d0794e96-4fb4-4cbe-829c-bcae4a847bf1",
   "metadata": {},
   "outputs": [
    {
     "name": "stdin",
     "output_type": "stream",
     "text": [
      "Enter customer feedback:  Candidate is Excellent\n"
     ]
    },
    {
     "name": "stdout",
     "output_type": "stream",
     "text": [
      "Positive\n"
     ]
    }
   ],
   "source": [
    "#  Task 14: Customer Feedback Sentiment Analysis\n",
    "\n",
    "#  Objective: Basic sentiment analysis of customer feedback.\n",
    "\n",
    "#  Write the Python code that checks if certain positive or negative words (e.g., \"good\", \"bad\", \"happy\", \"disappointed\") are present in customer feedback.\n",
    "\n",
    "#  Print \"Positive\" or \"Negative\" based on the words found in the feedback.\n",
    "\n",
    "positive_words = [\"good\", \"happy\", \"excellent\"]\n",
    "negative_words = [\"bad\", \"disappointed\", \"poor\"]\n",
    "\n",
    "feedback = input(\"Enter customer feedback: \")\n",
    "\n",
    "if any(word in feedback.lower() for word in positive_words):\n",
    "    print(\"Positive\")\n",
    "elif any(word in feedback.lower() for word in negative_words):\n",
    "    print(\"Negative\")\n",
    "else:\n",
    "    print(\"None\")"
   ]
  },
  {
   "cell_type": "code",
   "execution_count": 106,
   "id": "a7401a54-2917-4fc6-b3af-5f13fc758b97",
   "metadata": {},
   "outputs": [
    {
     "name": "stdout",
     "output_type": "stream",
     "text": [
      "Employee: Rohan, Rating: Excellent, Updated Salary: $72000.0\n",
      "Employee: Mohit, Rating: Good, Updated Salary: $66000.0\n",
      "Employee: Raju, Rating: Average, Updated Salary: $63000.0\n",
      "Employee: Amit, Rating: Poor, Updated Salary: $60000.0\n"
     ]
    }
   ],
   "source": [
    "# Task 15: Employee Salary Increment Calculator\n",
    "# Objective: Calculate the salary increment for employees based on their performance rating.\n",
    "\n",
    "# Create a dictionary that stores employee names and their performance ratings.\n",
    "\n",
    "# Write the code that applies a different increment percentage based on the rating.\n",
    "\n",
    "# Print the updated salary for each employee.\n",
    "\n",
    "\n",
    "def calculate_salary_increment(employees, base_salary):\n",
    "    \"\"\"\n",
    "    Calculates the updated salary for employees based on their performance ratings.\n",
    "\n",
    "    Args:\n",
    "        employees (dict): Dictionary with employee names as keys and performance ratings as values.\n",
    "        base_salary (float): The base salary of all employees.\n",
    "\n",
    "    Returns:\n",
    "        None: Prints the updated salaries directly.\n",
    "    \"\"\"\n",
    "    for name, rating in employees.items():\n",
    "        if rating == \"Excellent\":\n",
    "            increment = 0.20  \n",
    "        elif rating == \"Good\":\n",
    "            increment = 0.10  \n",
    "        elif rating == \"Average\":\n",
    "            increment = 0.05  \n",
    "        else:\n",
    "            increment = 0.0  \n",
    "\n",
    "        updated_salary = base_salary + (base_salary * increment)\n",
    "        print(f\"Employee: {name}, Rating: {rating}, Updated Salary: ${round(updated_salary, 2)}\")\n",
    "\n",
    "\n",
    "employees = {\n",
    "    \"Rohan\": \"Excellent\",\n",
    "    \"Mohit\": \"Good\",\n",
    "    \"Raju\": \"Average\",\n",
    "    \"Amit\": \"Poor\"\n",
    "}\n",
    "\n",
    "base_salary = 60000  \n",
    "calculate_salary_increment(employees, base_salary)"
   ]
  },
  {
   "cell_type": "code",
   "execution_count": 116,
   "id": "3e09e5f0-7b7c-4c47-b0f8-33b32b31a355",
   "metadata": {},
   "outputs": [
    {
     "name": "stdout",
     "output_type": "stream",
     "text": [
      "Total Sales: $6450.00\n",
      "Average Daily Sales: $586.36\n",
      "\n"
     ]
    }
   ],
   "source": [
    "# Task 16: Monthly Sales Report Generator\n",
    "# Objective: Generate a simple text-based monthly sales report.\n",
    "\n",
    "# Create a list of daily sales figures for a month.\n",
    "\n",
    "# Calculate the total and average sales for the month.\n",
    "\n",
    "# Write these statistics to a text file named monthly_report.txt.\n",
    "\n",
    "daily_sales = [500, 600, 300, 450, 400, 250, 550, 700, 800, 900, 1000]\n",
    "\n",
    "Total_sales = sum(daily_sales)\n",
    "Average_sales = Total_sales/len(daily_sales)\n",
    "\n",
    "with open(\"monthly_report.txt\", \"w\") as file:\n",
    "     file.write(f\"Total Sales: ${Total_sales:.2f}\\n\")\n",
    "     file.write(f\"Average Daily Sales: ${Average_sales:.2f}\\n\")\n",
    "\n",
    "with open(\"monthly_report.txt\", \"r\") as file:\n",
    "    print(file.read())"
   ]
  },
  {
   "cell_type": "code",
   "execution_count": 118,
   "id": "23122118-0622-4920-bf20-46196b0dc6c8",
   "metadata": {},
   "outputs": [
    {
     "name": "stdout",
     "output_type": "stream",
     "text": [
      "Inventory Replenishment Report\n",
      "======================================================================\n",
      "\n",
      "Products that need reordering:\n",
      "----------------------------------------------------------------------\n",
      "Product         Current Stock   Min Threshold   Reorder Qty    \n",
      "----------------------------------------------------------------------\n",
      "Laptop          10              10              15             \n",
      "Smartphone      15              15              25             \n",
      "Tablet          7               8               12             \n",
      "Headphones      8               20              30             \n",
      "Mouse           3               5               20             \n",
      "Keyboard        6               10              15             \n",
      "Monitor         4               5               8              \n",
      "\n",
      "Total products to reorder: 7\n",
      "\n",
      "Total units to be ordered: 125\n"
     ]
    }
   ],
   "source": [
    "# Task 17: Stock Replenishment Planning\n",
    "# Objective: Determine which products need replenishment based on sales data.\n",
    "\n",
    "# Given a list of products and their current stock levels, compare these against a predefined threshold.\n",
    "\n",
    "# Print a list of products that need to be reordered to maintain adequate stock levels.\n",
    "\n",
    "def check_inventory_levels(inventory, min_threshold, reorder_quantity):\n",
    "    \"\"\"\n",
    "    Check inventory levels and determine which products need replenishment\n",
    "    \n",
    "    Args:\n",
    "        inventory (dict): Dictionary of products with their current stock levels\n",
    "        min_threshold (dict): Minimum stock levels for each product\n",
    "        reorder_quantity (dict): Recommended reorder quantity for each product\n",
    "    \n",
    "    Returns:\n",
    "        list: Products that need replenishment\n",
    "    \"\"\"\n",
    "    products_to_reorder = []\n",
    "    \n",
    "    for product, stock in inventory.items():\n",
    "        if stock <= min_threshold.get(product, 0):\n",
    "            products_to_reorder.append({\n",
    "                'product': product,\n",
    "                'current_stock': stock,\n",
    "                'threshold': min_threshold.get(product, 0),\n",
    "                'reorder_quantity': reorder_quantity.get(product, 0)\n",
    "            })\n",
    "    \n",
    "    return products_to_reorder\n",
    "\n",
    "\n",
    "current_inventory = {\n",
    "    'Laptop': 10,\n",
    "    'Smartphone': 15,\n",
    "    'Tablet': 7,\n",
    "    'Headphones': 8,\n",
    "    'Mouse': 3,\n",
    "    'Keyboard': 6,\n",
    "    'Monitor': 4\n",
    "}\n",
    "\n",
    "\n",
    "minimum_threshold = {\n",
    "    'Laptop': 10,\n",
    "    'Smartphone': 15,\n",
    "    'Tablet': 8,\n",
    "    'Headphones': 20,\n",
    "    'Mouse': 5,\n",
    "    'Keyboard': 10,\n",
    "    'Monitor': 5\n",
    "}\n",
    "\n",
    "\n",
    "reorder_quantities = {\n",
    "    'Laptop': 15,\n",
    "    'Smartphone': 25,\n",
    "    'Tablet': 12,\n",
    "    'Headphones': 30,\n",
    "    'Mouse': 20,\n",
    "    'Keyboard': 15,\n",
    "    'Monitor': 8\n",
    "}\n",
    "\n",
    "\n",
    "products_needed = check_inventory_levels(\n",
    "    current_inventory,\n",
    "    minimum_threshold,\n",
    "    reorder_quantities\n",
    ")\n",
    "\n",
    "\n",
    "print(\"Inventory Replenishment Report\")\n",
    "print(\"=\" * 70)\n",
    "\n",
    "if products_needed:\n",
    "    print(\"\\nProducts that need reordering:\")\n",
    "    print(\"-\" * 70)\n",
    "    print(f\"{'Product':<15} {'Current Stock':<15} {'Min Threshold':<15} {'Reorder Qty':<15}\")\n",
    "    print(\"-\" * 70)\n",
    "    \n",
    "    for item in products_needed:\n",
    "        print(f\"{item['product']:<15} {item['current_stock']:<15} \"\n",
    "              f\"{item['threshold']:<15} {item['reorder_quantity']:<15}\")\n",
    "    \n",
    "    print(\"\\nTotal products to reorder:\", len(products_needed))\n",
    "else:\n",
    "    print(\"\\nAll products are above minimum threshold levels. No reordering needed.\")\n",
    "\n",
    "\n",
    "total_items_to_order = sum(item['reorder_quantity'] for item in products_needed)\n",
    "print(f\"\\nTotal units to be ordered: {total_items_to_order}\")"
   ]
  },
  {
   "cell_type": "code",
   "execution_count": 120,
   "id": "0453b356-704d-415f-be0b-e930b6bdf02b",
   "metadata": {},
   "outputs": [
    {
     "name": "stdout",
     "output_type": "stream",
     "text": [
      "John Doe\n",
      "Mary Smith\n",
      "Robert   Johnson\n",
      "Alice Williams\n"
     ]
    }
   ],
   "source": [
    "# Task 18: Data Cleaning Utility\n",
    "# Objective: Create a utility to clean customer names for better data consistency.\n",
    "\n",
    "# Write the code that takes a list of customer names with extra spaces and inconsistent capitalization.\n",
    "\n",
    "# Clean the names by trimming spaces and standardizing the capitalization (e.g., \"JOHN DOE\" -> \"John Doe\").\n",
    "\n",
    "# Print the cleaned names for database entry.\n",
    "\n",
    "# Function to clean customer names\n",
    "\n",
    "def clean_customer_names(names):\n",
    "    cleaned_names = []\n",
    "    for name in names:\n",
    "        # Trim leading/trailing spaces and standardize capitalization\n",
    "        cleaned_name = name.strip().title()\n",
    "        cleaned_names.append(cleaned_name)\n",
    "    return cleaned_names\n",
    "\n",
    "# List of customer names with inconsistent formatting\n",
    "customer_names = [\n",
    "    \"  john doe  \", \n",
    "    \"  MARY smith\", \n",
    "    \"   robert   johnson\", \n",
    "    \"   AlIce wILlIaMs \"\n",
    "]\n",
    "\n",
    "# Clean the names\n",
    "cleaned_names = clean_customer_names(customer_names)\n",
    "\n",
    "# Print cleaned names for database entry\n",
    "for name in cleaned_names:\n",
    "    print(name)"
   ]
  },
  {
   "cell_type": "code",
   "execution_count": 128,
   "id": "13e5b2e9-fcf2-4bac-8035-f132092df3c3",
   "metadata": {},
   "outputs": [
    {
     "name": "stdout",
     "output_type": "stream",
     "text": [
      "Forecasted Sales for Next Month: $50000.00\n"
     ]
    }
   ],
   "source": [
    "# Task 19: Simple Sales Forecasting\n",
    "# Objective: Implement a basic forecasting model for next month’s sales.\n",
    "\n",
    "# Based on the average sales of the last 3 months, predict next month’s sales using a simple average.\n",
    "\n",
    "# Print the forecasted sales figures for budget planning.\n",
    "\n",
    "# Function to forecast next month's sales based on average of last 3 months\n",
    "\n",
    "def forecast_sales(last_months_sales):\n",
    "    # Calculate the average sales of the last 3 months\n",
    "    average_sales = sum(last_months_sales) / len(last_months_sales)\n",
    "    # Return the forecasted sales\n",
    "    return average_sales\n",
    "\n",
    "# Sales data for the last 3 months\n",
    "last_months_sales = [50000, 40000, 60000] \n",
    "\n",
    "# Forecast the next month's sales\n",
    "forecasted_sales = forecast_sales(last_months_sales)\n",
    "\n",
    "# Print the forecasted sales for budget planning\n",
    "print(f\"Forecasted Sales for Next Month: ${forecasted_sales:.2f}\")"
   ]
  },
  {
   "cell_type": "code",
   "execution_count": null,
   "id": "f7e5de1d-055f-4549-a23c-a95ab53398b0",
   "metadata": {},
   "outputs": [],
   "source": [
    "#Task 20: Customer Loyalty Points Calculator\n",
    "#Objective: Calculate loyalty points for customers based on their purchases.\n",
    "\n",
    "#Write a code that assigns loyalty points to customers based on their total purchase amount.\n",
    "\n",
    "#Implement a tiered system where different spending levels earn different point multipliers.\n",
    "\n",
    "# Print the loyalty points for a list of customers.\n",
    "\n",
    "# Function to calculate loyalty points based on purchase amount\n",
    "def calculate_loyalty_points(purchase_amount):\n",
    "    # Define tiered multipliers\n",
    "    if purchase_amount < 100:\n",
    "        multiplier = 1  # 1 point per dollar for purchases under $100\n",
    "    elif purchase_amount < 500:\n",
    "        multiplier = 1.5  # 1.5 points per dollar for purchases between $100 and $500\n",
    "    else:\n",
    "        multiplier = 2  # 2 points per dollar for purchases over $500\n",
    "\n",
    "    # Calculate and return the loyalty points\n",
    "    loyalty_points = purchase_amount * multiplier\n",
    "    return loyalty_points\n",
    "\n",
    "# List of customers and their respective total purchase amounts\n",
    "customers = [\n",
    "    {\"name\": \"John Doe\", \"purchase_amount\": 50},\n",
    "    {\"name\": \"Mary Smith\", \"purchase_amount\": 250},\n",
    "    {\"name\": \"Robert Johnson\", \"purchase_amount\": 600},\n",
    "    {\"name\": \"Alice Williams\", \"purchase_amount\": 120}\n",
    "]\n",
    "\n",
    "# Calculate and print loyalty points for each customer\n",
    "for customer in customers:\n",
    "    points = calculate_loyalty_points(customer[\"purchase_amount\"])\n",
    "    print(f\"{customer['name']} earns {points:.2f} loyalty points.\")\n"
   ]
  }
 ],
 "metadata": {
  "kernelspec": {
   "display_name": "Python 3 (ipykernel)",
   "language": "python",
   "name": "python3"
  },
  "language_info": {
   "codemirror_mode": {
    "name": "ipython",
    "version": 3
   },
   "file_extension": ".py",
   "mimetype": "text/x-python",
   "name": "python",
   "nbconvert_exporter": "python",
   "pygments_lexer": "ipython3",
   "version": "3.12.4"
  }
 },
 "nbformat": 4,
 "nbformat_minor": 5
}
